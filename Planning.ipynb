{
 "cells": [
  {
   "cell_type": "markdown",
   "id": "fd70188c-666c-4d5d-b350-694875acd592",
   "metadata": {},
   "source": [
    "### Planning sur 4 semaines pour le projet Puissance 4\n",
    "\n",
    "---\n",
    "\n",
    "#### Hypothèses et objectifs\n",
    "- Disponibilité estimée 10–15 heures par semaine.  \n",
    "- Livraison : code modulaire, tests unitaires, README, design.md, démonstration console.  \n",
    "- Priorité : fonctionnalité jouable d’abord, puis optimisation et documentation.\n",
    "\n",
    "---\n",
    "\n",
    "#### Semaine 1  Fondations et règles\n",
    "- ~~Jour 1 : initialiser dépôt Git, README minimal, arborescence src/, tests/, docs/.~~\n",
    "- ~~Jour 2–3 : implémenter la classe **Board** avec drop, undo, is_valid, get_valid_moves, serialize; écrire tests unitaires.~~\n",
    "- ~~Jour 4–5 : implémenter **rules.is_winning_move** optimisée (vérifier autour du dernier coup) et tests pour victoires horizontale, verticale et diagonales; gérer match nul.~~  \n",
    "- Livrable S1 : tests Board et Rules passants; jeu humain vs humain minimal en console.\n",
    "\n",
    "---\n",
    "\n",
    "#### Semaine 2  Boucle de jeu et heuristique\n",
    "- Jour 6 : créer affichage ASCII propre et boucle de jeu console (saisie colonne, alternance).  \n",
    "- Jour 7–8 : implémenter l’heuristique (fenêtres de 4, poids centre, scores pour 4/3/2) et écrire tests déterministes sur positions connues.  \n",
    "- Jour 9–10 : intégrer mode humain vs IA avec IA aléatoire ou heuristique simple; ajouter logs de diagnostic (score renvoyé, moves valides).  \n",
    "- Livrable S2 : boucle de jeu stable et heuristique testée.\n",
    "\n",
    "---\n",
    "\n",
    "#### Semaine 3  Minimax et alpha beta\n",
    "- Jour 11–12 : implémenter Minimax récursif basique avec profondeur paramétrable et tests d’intégration.  \n",
    "- Jour 13–14 : ajouter élagage **alpha beta**, ordonnancement des coups (centre d’abord) et préfiltrage coups gagnants / blocage avant la recherche.  \n",
    "- Jour 15 : instrumenter compteurs de performance (nœuds explorés, temps par coup) et mesurer sur quelques parties IA vs IA.  \n",
    "- Livrable S3 : IA compétente profondeur 4–6 avec diagnostics de performance.\n",
    "\n",
    "---\n",
    "\n",
    "#### Semaine 4  Optimisations, tests et documentation\n",
    "- Jour 16–17 : implémenter transposition table simple (clé = board.serialize()) et mesurer gains (hits/misses).  \n",
    "- Jour 18 : compléter tests pour l’IA (scénarios gagnants, blocage, cohérence heuristique).  \n",
    "- Jour 19 : écrire scripts d’évaluation automatique IA vs IA et sauvegarder logs dans demo_games/.  \n",
    "- Jour 20 : rédiger docs/design.md, finaliser README, préparer démonstration console et notes pour la soutenance.  \n",
    "- Buffer : utiliser temps restant pour Zobrist hashing, optimiser copies de board, ou ajouter mode analyse affichant top-k coups.  \n",
    "- Livrable final : dépôt prêt avec tests verts, rapport et démo.\n",
    "\n",
    "---\n",
    "\n",
    "#### Checklist avant soutenance\n",
    "- [ ] Repo initialisé et structuré.  \n",
    "- [ ] Tests unitaires pour Board et Rules.  \n",
    "- [ ] Boucle console stable (human vs AI, AI vs AI).  \n",
    "- [ ] Heuristique documentée et testée.  \n",
    "- [ ] Minimax + alpha beta opérationnels et mesurés.  \n",
    "- [ ] Transposition table active et évaluée.  \n",
    "- [ ] README et design.md prêts; logs de démonstration disponibles.\n",
    "\n",
    "---\n",
    "\n",
    "#### Conseils rapides pour tenir le planning\n",
    "- Commits courts et fréquents avec messages clairs.  \n",
    "- Priorise la fonctionnalité minimale jouable avant d’optimiser.  \n",
    "- Mesure régulièrement (nœuds, temps) et conserve les résultats pour le rapport.  \n",
    "- Réserve 1–2 jours de buffer la dernière semaine pour corriger les bugs critiques."
   ]
  },
  {
   "cell_type": "code",
   "execution_count": null,
   "id": "6867decf-258a-4c8f-a924-2f7b33649d68",
   "metadata": {},
   "outputs": [],
   "source": []
  },
  {
   "cell_type": "code",
   "execution_count": null,
   "id": "018ee756-621a-4d4d-8823-e00b28096e38",
   "metadata": {},
   "outputs": [],
   "source": []
  }
 ],
 "metadata": {
  "kernelspec": {
   "display_name": "Python 3 (ipykernel)",
   "language": "python",
   "name": "python3"
  },
  "language_info": {
   "codemirror_mode": {
    "name": "ipython",
    "version": 3
   },
   "file_extension": ".py",
   "mimetype": "text/x-python",
   "name": "python",
   "nbconvert_exporter": "python",
   "pygments_lexer": "ipython3",
   "version": "3.12.7"
  }
 },
 "nbformat": 4,
 "nbformat_minor": 5
}
